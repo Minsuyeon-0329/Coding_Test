{
 "cells": [
  {
   "cell_type": "markdown",
   "metadata": {},
   "source": [
    "# 자료구조_4주차"
   ]
  },
  {
   "cell_type": "code",
   "execution_count": null,
   "metadata": {},
   "outputs": [],
   "source": [
    "# Definition for singly-linked list.\n",
    "# class ListNode:\n",
    "#     def __init__(self, val=0, next=None):\n",
    "#         self.val = val\n",
    "#         self.next = next"
   ]
  },
  {
   "cell_type": "markdown",
   "metadata": {},
   "source": [
    "## 86. Partition List"
   ]
  },
  {
   "cell_type": "code",
   "execution_count": null,
   "metadata": {},
   "outputs": [],
   "source": [
    "class Solution:\n",
    "    def partition(self, head: Optional[ListNode], x: int) -> Optional[ListNode]:\n",
    "        before_list = ListNode(0)\n",
    "        before = before_list\n",
    "        after_list = ListNode(0)\n",
    "        after = after_list\n",
    "        \n",
    "        crnt=head\n",
    "        while crnt:\n",
    "            if crnt.val < x:\n",
    "                before.next=crnt\n",
    "                before = before.next\n",
    "                crnt=crnt.next\n",
    "            else:\n",
    "                after.next=crnt\n",
    "                after=after.next\n",
    "                crnt=crnt.next\n",
    "          \n",
    "            \n",
    "        after.next=None\n",
    "        before.next=after_list.next\n",
    "        return before_list.next"
   ]
  },
  {
   "cell_type": "markdown",
   "metadata": {},
   "source": [
    "##### Runtime: 32 ms(faster than 86.60%), Memory : (14.2 MB, less than 57.99%)"
   ]
  },
  {
   "cell_type": "markdown",
   "metadata": {},
   "source": [
    "## 143. Reorder List"
   ]
  },
  {
   "cell_type": "code",
   "execution_count": null,
   "metadata": {},
   "outputs": [],
   "source": [
    "class Solution:\n",
    "    def reorderList(self, head: Optional[ListNode]) -> None:\n",
    "        \"\"\"\n",
    "        Do not return anything, modify head in-place instead.\n",
    "        \"\"\"\n",
    "        if not head :\n",
    "            return head\n",
    "        \n",
    "        slow=fast=head\n",
    "        while fast and fast.next:\n",
    "            slow=slow.next\n",
    "            fast=fast.next.next\n",
    "        \n",
    "        crnt=slow\n",
    "        temp=None\n",
    "        while crnt:\n",
    "            a=crnt.next\n",
    "            crnt.next=temp\n",
    "            temp=crnt\n",
    "            crnt=a\n",
    "            \n",
    "        first, second = head, temp\n",
    "\n",
    "        while second.next:\n",
    "            first.next, first = second, first.next\n",
    "            second.next, second = first, second.next\n",
    "        return head"
   ]
  },
  {
   "cell_type": "markdown",
   "metadata": {},
   "source": [
    "##### Runtime: 96 ms(faster than 58.51%), Memory : 23.2 MB(less than 94.97%)"
   ]
  },
  {
   "cell_type": "markdown",
   "metadata": {},
   "source": [
    "## 19. Remove Nth Node From End of List"
   ]
  },
  {
   "cell_type": "code",
   "execution_count": null,
   "metadata": {},
   "outputs": [],
   "source": [
    "class Solution:\n",
    "    def removeNthFromEnd(self, head: Optional[ListNode], n: int) -> Optional[ListNode]:\n",
    "        count=0\n",
    "        temp =head\n",
    "        while temp:\n",
    "            count+=1\n",
    "            temp=temp.next\n",
    "            \n",
    "        if count-n == 0:\n",
    "            return head.next\n",
    "        \n",
    "        crnt=head\n",
    "        for i in range(count-n-1):\n",
    "            crnt=crnt.next\n",
    "        crnt.next=crnt.next.next\n",
    "        return head"
   ]
  },
  {
   "cell_type": "markdown",
   "metadata": {},
   "source": [
    "##### Runtime: 36 ms(faster than 58.77%), Memory : 14.2 MB(less than 46.41%)"
   ]
  },
  {
   "cell_type": "markdown",
   "metadata": {},
   "source": [
    "## 234. Palindrome Linked List"
   ]
  },
  {
   "cell_type": "code",
   "execution_count": null,
   "metadata": {},
   "outputs": [],
   "source": [
    "class Solution:\n",
    "    def isPalindrome(self, head: Optional[ListNode]) -> bool:\n",
    "        if head is None:\n",
    "            return False\n",
    "        res=[]\n",
    "        while head :\n",
    "            res.append(head.val)\n",
    "            head=head.next\n",
    "        while len(res)>1:\n",
    "            if res.pop(0) != res.pop():\n",
    "                return False\n",
    "        return True"
   ]
  },
  {
   "cell_type": "markdown",
   "metadata": {},
   "source": [
    "#### Runtime: 1372 ms(faster than 6.49%), Memory :  47.2 MB(less than 37.14%)\n",
    "#### 다른 방법 찾아보기"
   ]
  },
  {
   "cell_type": "markdown",
   "metadata": {},
   "source": [
    "## 445. Add Two Numbers II"
   ]
  },
  {
   "cell_type": "code",
   "execution_count": null,
   "metadata": {},
   "outputs": [],
   "source": [
    "class Solution:\n",
    "    def addTwoNumbers(self, l1: Optional[ListNode], l2: Optional[ListNode]) -> Optional[ListNode]:\n",
    "        r_l1=None\n",
    "        while l1:\n",
    "            a=l1.next\n",
    "            l1.next=r_l1\n",
    "            r_l1=l1\n",
    "            l1=a\n",
    "        r_l2 = None\n",
    "        while l2 :\n",
    "            b=l2.next\n",
    "            l2.next=r_l2\n",
    "            r_l2=l2\n",
    "            l2=b\n",
    "        crnt=ListNode()\n",
    "        curr=crnt\n",
    "        carry=0\n",
    "        \n",
    "        while r_l1 or r_l2 or carry:\n",
    "            val1=r_l1.val if r_l1 else 0\n",
    "            val2=r_l2.val if r_l2 else 0\n",
    "            val=val1+val2+carry\n",
    "            carry =val //10\n",
    "            val =val%10\n",
    "            curr.next=ListNode(val)\n",
    "            \n",
    "            curr=curr.next\n",
    "            r_l1=r_l1.next if r_l1 else 0\n",
    "            r_l2 = r_l2.next if r_l2 else 0\n",
    "            \n",
    "        r_crnt=None\n",
    "        while crnt:\n",
    "            c=crnt.next\n",
    "            crnt.next=r_crnt\n",
    "            r_crnt=crnt\n",
    "            crnt=c\n",
    "        count=0\n",
    "        rr=r_crnt\n",
    "        while rr:\n",
    "            count+=1\n",
    "            rr=rr.next\n",
    "        rr=r_crnt\n",
    "        for i in range(count-1-1):\n",
    "            rr=rr.next\n",
    "        rr.next=None\n",
    "        return r_crnt"
   ]
  },
  {
   "cell_type": "markdown",
   "metadata": {},
   "source": [
    "##### Runtime: 72 ms(faster than 75.09%), Memory : 14.2 MB(less than 91.22%)\n",
    "##### 코드가 너무 길다. Discuss 참고해서 다른 풀이 생각해보기"
   ]
  },
  {
   "cell_type": "markdown",
   "metadata": {},
   "source": [
    "## 138. Copy List with Random Pointer"
   ]
  },
  {
   "cell_type": "code",
   "execution_count": null,
   "metadata": {},
   "outputs": [],
   "source": [
    "class Solution:\n",
    "    def copyRandomList(self, head: 'Node') -> 'Node':\n",
    "        if not head:\n",
    "            return None\n",
    "        copy_d={None:None}\n",
    "        c_head=head\n",
    "        while c_head:\n",
    "            copy_d[c_head]=Node(c_head.val)\n",
    "            c_head=c_head.next\n",
    "            \n",
    "            \n",
    "        for node in copy_d:\n",
    "            if not node:\n",
    "                continue\n",
    "            \n",
    "            copy=copy_d[node]\n",
    "            copy.next=copy_d[node.next]\n",
    "            copy.random=copy_d[node.random]\n",
    "            \n",
    "        return copy_d[head]"
   ]
  },
  {
   "cell_type": "markdown",
   "metadata": {},
   "source": [
    "##### Runtime: 36 ms(faster than 72.73%), Memory : 14.8 MB(less than 83.46%)"
   ]
  },
  {
   "cell_type": "markdown",
   "metadata": {},
   "source": [
    "## 146. LRU Cache"
   ]
  },
  {
   "cell_type": "code",
   "execution_count": null,
   "metadata": {},
   "outputs": [],
   "source": [
    "class LRUCache:\n",
    "\n",
    "    def __init__(self, capacity: int):\n",
    "        self.__capacity=capacity\n",
    "        self.__cache=OrderedDict()\n",
    "\n",
    "    def get(self, key: int) -> int:\n",
    "        value=self.__cache.get(key,-1)\n",
    "        if value != -1 : # if key exists\n",
    "            self.__cache.move_to_end(key,last=True)\n",
    "            \n",
    "        return value\n",
    "\n",
    "    def put(self, key: int, value: int) -> None:\n",
    "        if self.__cache.get(key,False): # If key exists\n",
    "            self.__cache.move_to_end(key,last=True) # Update time (Move to header)\n",
    "        elif len(self.__cache)==self.__capacity: # If cache exceeds capacity\n",
    "            self.__cache.popitem(last=False) # FIFO\n",
    "                        \n",
    "        self.__cache[key]=value # Update key-value\n",
    "\n",
    "\n",
    "# Your LRUCache object will be instantiated and called as such:\n",
    "# obj = LRUCache(capacity)\n",
    "# param_1 = obj.get(key)\n",
    "# obj.put(key,value)"
   ]
  },
  {
   "cell_type": "markdown",
   "metadata": {},
   "source": [
    "##### Runtime: 760 ms(faster than 84.38%), Memory : 76.4 MB(less than 14.98%)\n",
    "##### Cache : 자주 사용하는 데이터나 값을 미리 복사해 놓는 임시장소.\n",
    "##### LRU algorithm : 가장 최근에 사용된 적이 없는 데이터는 앞으로도 사용될 확률이 적을 거라는 판단으로 추가되는 새로운 데이터와 교체하는 알고리즘.\n",
    "##### 원리는 이해했는데 __init__은 왜 나와야하는지 등 코드 이해 불가,,"
   ]
  }
 ],
 "metadata": {
  "kernelspec": {
   "display_name": "Python 3",
   "language": "python",
   "name": "python3"
  },
  "language_info": {
   "codemirror_mode": {
    "name": "ipython",
    "version": 3
   },
   "file_extension": ".py",
   "mimetype": "text/x-python",
   "name": "python",
   "nbconvert_exporter": "python",
   "pygments_lexer": "ipython3",
   "version": "3.7.6"
  }
 },
 "nbformat": 4,
 "nbformat_minor": 4
}
