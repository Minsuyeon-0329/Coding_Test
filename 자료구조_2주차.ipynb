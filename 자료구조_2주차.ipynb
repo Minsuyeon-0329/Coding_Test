{
 "cells": [
  {
   "cell_type": "markdown",
   "metadata": {},
   "source": [
    "# 자료구조_2주차"
   ]
  },
  {
   "cell_type": "markdown",
   "metadata": {},
   "source": [
    "## 1480. Running Sum of 1d Array"
   ]
  },
  {
   "cell_type": "code",
   "execution_count": null,
   "metadata": {},
   "outputs": [],
   "source": [
    "class Solution:\n",
    "    def runningSum(self, nums: List[int]) -> List[int]:\n",
    "        a=0\n",
    "        b=[]\n",
    "        for i in nums:\n",
    "            a+=i\n",
    "            b.append(a)\n",
    "        return b"
   ]
  },
  {
   "cell_type": "markdown",
   "metadata": {},
   "source": [
    "##### Runtime : 67 ms(aster than 10.15%), Memory : 14.5 MB(less than 11.99%)"
   ]
  },
  {
   "cell_type": "markdown",
   "metadata": {},
   "source": [
    "## 728. Self Dividing Numbers"
   ]
  },
  {
   "cell_type": "code",
   "execution_count": null,
   "metadata": {},
   "outputs": [],
   "source": [
    "class Solution:\n",
    "    def selfDividingNumbers(self, left: int, right: int) -> List[int]:\n",
    "        res=[]\n",
    "        sub=[]\n",
    "        for i in range(left,right+1):\n",
    "            for j in str(i):\n",
    "                if j != '0' and i%10 != 0 and i%int(j) == 0:\n",
    "                    res.append(i)\n",
    "                    if len(str(i)) != res.count(i):\n",
    "                        sub.append(i)\n",
    "        for k in sub:\n",
    "            if k in res:\n",
    "                res.remove(k)\n",
    "        return res"
   ]
  },
  {
   "cell_type": "markdown",
   "metadata": {},
   "source": [
    "##### Runtime : 1614 ms(faster than 5.02%), Memory : 14.8 MB( less than 25.82%)\n",
    "##### Accept는 됐지만 너무 비효율적인 코드인 것 같다."
   ]
  },
  {
   "cell_type": "markdown",
   "metadata": {},
   "source": [
    "## 53. Maximum Subarray"
   ]
  },
  {
   "cell_type": "code",
   "execution_count": null,
   "metadata": {},
   "outputs": [],
   "source": [
    "class Solution:\n",
    "    def maxSubArray(self, nums: List[int]) -> int:\n",
    "        a,b=0,0\n",
    "        for i in nums:\n",
    "            a+=i\n",
    "            b=max(b,a)\n",
    "            if a<0:\n",
    "                a=0\n",
    "        return b"
   ]
  },
  {
   "cell_type": "markdown",
   "metadata": {},
   "source": [
    "##### Wrong Answer : nums가 음수로만 이루어진 경우를 만족하지 못한다."
   ]
  },
  {
   "cell_type": "code",
   "execution_count": null,
   "metadata": {},
   "outputs": [],
   "source": [
    "class Solution:\n",
    "    def maxSubArray(self, nums: List[int]) -> int:\n",
    "        a=b=nums[0]\n",
    "        for i in range(1,len(nums)):\n",
    "            a=max(nums[i],a+nums[i])\n",
    "            if a>b:\n",
    "                b=a\n",
    "        return b"
   ]
  },
  {
   "cell_type": "markdown",
   "metadata": {},
   "source": [
    "##### Runtime : 69 ms(faster than 32.25%), Memory : 15 MB(less than 85.31%)"
   ]
  },
  {
   "cell_type": "markdown",
   "metadata": {},
   "source": [
    "## 937. Reorder Data in Log Files"
   ]
  },
  {
   "cell_type": "code",
   "execution_count": null,
   "metadata": {},
   "outputs": [],
   "source": [
    "class Solution:\n",
    "    def reorderLogFiles(self, logs: List[str]) -> List[str]:\n",
    "        letter=[]\n",
    "        digit=[]\n",
    "        for log in logs:\n",
    "            if log.split()[1].isdigit():\n",
    "                digit.append(log)\n",
    "            else:\n",
    "                letter.append(log)\n",
    "        letter.sort(key=lambda x:(x.split()[1:],x.split()[0]))\n",
    "        return letter+digit"
   ]
  },
  {
   "cell_type": "markdown",
   "metadata": {},
   "source": [
    "##### Runtime :  41 ms(faster than 28.55%), Memory : 14.3 MB(less than 66.46%)\n",
    "##### 식별자를 제외한 문자열[1:]을 키로 하여 정렬하며, 동일한 경우 후순위로 식별자 [0]를 지정해 정렬되도록 한다."
   ]
  },
  {
   "cell_type": "markdown",
   "metadata": {},
   "source": [
    "## 560. Subarray Sum Equals K"
   ]
  },
  {
   "cell_type": "code",
   "execution_count": null,
   "metadata": {},
   "outputs": [],
   "source": [
    "class Solution:\n",
    "    def subarraySum(self, nums: List[int], k: int) -> int:\n",
    "        a=res=0\n",
    "        for i in range(len(nums)):\n",
    "            a+=nums[i]\n",
    "            if a==k:\n",
    "                res+=1\n",
    "            for j in range(i+1,len(nums)):\n",
    "                a+=nums[j]\n",
    "                if a==k:\n",
    "                    res+=1\n",
    "                    a=0\n",
    "                    break\n",
    "                if a>k:\n",
    "                    a=0\n",
    "                    break\n",
    "            a=0\n",
    "        return res"
   ]
  },
  {
   "cell_type": "markdown",
   "metadata": {},
   "source": [
    "##### Wrong Answer \n",
    "##### Input : nums = [-1,1,0], k = 0 , Output : 3 > 2 (-1+1 = 0 이어서 break 해버리는 바람에 뒤에 0을 고려하지 않았다.)"
   ]
  },
  {
   "cell_type": "code",
   "execution_count": null,
   "metadata": {},
   "outputs": [],
   "source": [
    "class Solution:\n",
    "    def subarraySum(self, nums: List[int], k: int) -> int:\n",
    "        curr_sum, res = 0, 0\n",
    "        prefixSums = {0: 1}\n",
    "        \n",
    "        for n in nums:\n",
    "            curr_sum += n\n",
    "            diff = curr_sum - k\n",
    "            res += prefixSums.get(diff, 0)\n",
    "            prefixSums[curr_sum] = 1 + prefixSums.get(curr_sum, 0)\n",
    "            \n",
    "        return res"
   ]
  },
  {
   "cell_type": "markdown",
   "metadata": {},
   "source": [
    "##### Runtime : 343 ms(faster than 18.87%), Memory : 16.8 MB(less than 60.60%)"
   ]
  }
 ],
 "metadata": {
  "kernelspec": {
   "display_name": "Python 3",
   "language": "python",
   "name": "python3"
  },
  "language_info": {
   "codemirror_mode": {
    "name": "ipython",
    "version": 3
   },
   "file_extension": ".py",
   "mimetype": "text/x-python",
   "name": "python",
   "nbconvert_exporter": "python",
   "pygments_lexer": "ipython3",
   "version": "3.7.6"
  }
 },
 "nbformat": 4,
 "nbformat_minor": 4
}
