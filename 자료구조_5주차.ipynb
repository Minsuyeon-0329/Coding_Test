{
 "cells": [
  {
   "cell_type": "markdown",
   "metadata": {},
   "source": [
    "# 자료구조_5주차"
   ]
  },
  {
   "cell_type": "markdown",
   "metadata": {},
   "source": [
    "# [Stack]"
   ]
  },
  {
   "cell_type": "markdown",
   "metadata": {},
   "source": [
    "## 772. Basic Calculator III"
   ]
  },
  {
   "cell_type": "code",
   "execution_count": null,
   "metadata": {},
   "outputs": [],
   "source": [
    "class Solution:\n",
    "    def calculate(self, s: str) -> int:\n",
    "        if not s:\n",
    "            return 0\n",
    "\n",
    "        stack = []\n",
    "        idx = 0\n",
    "\n",
    "        while idx < len(s):\n",
    "            ch = s[idx]\n",
    "\n",
    "            if ch == ')':\n",
    "                tmp_stack = []\n",
    "                while stack[-1] != '(':\n",
    "                    tmp_stack.append(stack.pop())\n",
    "                stack.pop()\n",
    "                \n",
    "                stack.append(self.calculate_helper(tmp_stack[::-1]))\n",
    "                idx += 1\n",
    "            else:\n",
    "                if ch.isnumeric():\n",
    "                    i = idx\n",
    "                    while idx < len(s) and s[idx].isnumeric():\n",
    "                        idx += 1\n",
    "                    stack.append(int(s[i: idx]))\n",
    "                else:\n",
    "                    stack.append(ch)\n",
    "                    idx += 1\n",
    "\n",
    "        return self.calculate_helper(stack)\n",
    "\n",
    "    def calculate_helper(self, s):\n",
    "        if len(s) == 1:\n",
    "            return s[0]\n",
    "\n",
    "        idx = 0\n",
    "        stack = []\n",
    "        priority_signs = {'/', '*'}\n",
    "        while idx < len(s):\n",
    "            ch = s[idx]\n",
    "            if ch in priority_signs:\n",
    "                pre = stack.pop()\n",
    "                idx += 1\n",
    "                nxt = s[idx]\n",
    "                \n",
    "                if ch == '/':\n",
    "                    if nxt < 0 or pre < 0:\n",
    "                        nxt *= -1\n",
    "                        stack.append((pre//nxt)*(-1))\n",
    "                    \n",
    "                    else:\n",
    "                        stack.append(pre // nxt)\n",
    "                else:\n",
    "                    stack.append(pre * nxt)\n",
    "            else:\n",
    "                stack.append(ch)\n",
    " \n",
    "            idx += 1\n",
    "\n",
    "        total = stack[0]\n",
    "        if len(stack) == 1:\n",
    "            return total\n",
    "\n",
    "        for idx in range(1, len(stack), 2):\n",
    "            sign = stack[idx]\n",
    "            digit = stack[idx + 1]\n",
    "\n",
    "            if sign == '+':\n",
    "                total += digit\n",
    "            else:\n",
    "                total -= digit\n",
    "\n",
    "        return total"
   ]
  },
  {
   "cell_type": "markdown",
   "metadata": {},
   "source": [
    "##### Runtime: 36 ms(faster than 91.86%), Memory : 14.4 MB(less than 55.10%)"
   ]
  },
  {
   "cell_type": "markdown",
   "metadata": {},
   "source": [
    "## 20. Valid Parentheses"
   ]
  },
  {
   "cell_type": "code",
   "execution_count": null,
   "metadata": {},
   "outputs": [],
   "source": [
    "class Solution:\n",
    "    def isValid(self, s: str) -> bool:\n",
    "        stack = []\n",
    "        d = {\n",
    "            ')':'(',\n",
    "            ']':'[',\n",
    "            '}':'{'\n",
    "        }\n",
    "        for i in s:\n",
    "            if i in '([{':\n",
    "                stack.append(i)\n",
    "            elif i in ')]}':\n",
    "                if stack:\n",
    "                    top=stack.pop()\n",
    "                    if d[i] != top:\n",
    "                        return False\n",
    "                else:\n",
    "                    return False\n",
    "        return len(stack)==0"
   ]
  },
  {
   "cell_type": "markdown",
   "metadata": {},
   "source": [
    "##### Runtime: 28 ms(faster than 87.99%), Memory : 14.3 MB(less than 33.85%)"
   ]
  },
  {
   "cell_type": "markdown",
   "metadata": {},
   "source": [
    "## 716. Max Stack"
   ]
  },
  {
   "cell_type": "code",
   "execution_count": null,
   "metadata": {},
   "outputs": [],
   "source": [
    "class MaxStack:\n",
    "\n",
    "    def __init__(self):\n",
    "        self.stack = []\n",
    "        \n",
    "\n",
    "    def push(self, x: int) -> None:\n",
    "        self.stack.append(x)\n",
    "\n",
    "    def pop(self) -> int:\n",
    "        return self.stack.pop()\n",
    "\n",
    "    def top(self) -> int:\n",
    "        return self.stack[-1]\n",
    "\n",
    "    def peekMax(self) -> int:\n",
    "        return max(self.stack)\n",
    "\n",
    "    def popMax(self) -> int:\n",
    "        m = max(self.stack)\n",
    "        s = self.stack[::-1]\n",
    "        s.remove(m)\n",
    "        self.stack = s[::-1]\n",
    "        return m"
   ]
  },
  {
   "cell_type": "markdown",
   "metadata": {},
   "source": [
    "##### Runtime: 152 ms(faster than 73.84%), Memory : 16.5 MB(less than 75.20%)"
   ]
  },
  {
   "cell_type": "markdown",
   "metadata": {},
   "source": [
    "## 1047. Remove All Adjacent Duplicates In String"
   ]
  },
  {
   "cell_type": "code",
   "execution_count": null,
   "metadata": {},
   "outputs": [],
   "source": [
    "class Solution:\n",
    "    def removeDuplicates(self, s: str) -> str:\n",
    "        stack=[]\n",
    "        for i in s:\n",
    "            if not stack:\n",
    "                stack.append(i)\n",
    "            else:\n",
    "                top=stack[-1]\n",
    "                if top == i:\n",
    "                    stack.pop()\n",
    "                else:\n",
    "                    stack.append(i)\n",
    "        return ''.join(stack)"
   ]
  },
  {
   "cell_type": "markdown",
   "metadata": {},
   "source": [
    "##### Runtime: 100 ms(faster than 44.69%), Memory : 15.4 MB(less than 5.04%)"
   ]
  },
  {
   "cell_type": "markdown",
   "metadata": {},
   "source": [
    "# [Queue]"
   ]
  },
  {
   "cell_type": "markdown",
   "metadata": {},
   "source": [
    "## 622. Design Circular Queue"
   ]
  },
  {
   "cell_type": "code",
   "execution_count": null,
   "metadata": {},
   "outputs": [],
   "source": [
    "class MyCircularQueue:\n",
    "    \n",
    "    def __init__(self, k: int):\n",
    "        self.queue = [None] * (k+1)\n",
    "        self.head = 0\n",
    "        self.tail = 0\n",
    "        self.items = 0\n",
    "        self.size = k+1\n",
    "        \n",
    "    def enQueue(self, value: int) -> bool:\n",
    "        if self.items == self.size-1:\n",
    "            return False\n",
    "        \n",
    "        self.queue[self.tail] = value\n",
    "        self.tail = (self.tail + 1)%self.size\n",
    "        self.items +=1\n",
    "        return True\n",
    "    \n",
    "    def deQueue(self) -> bool:\n",
    "        if self.head == self.tail:\n",
    "            return False\n",
    "        self.head = (self.head +1)%self.size\n",
    "        self.items -= 1\n",
    "        return True\n",
    "    \n",
    "    def Front(self) -> int:\n",
    "        if self.head == self.tail:\n",
    "            return -1\n",
    "        else:\n",
    "            return self.queue[self.head]\n",
    "        \n",
    "    def Rear(self) -> int:\n",
    "        if self.head == self.tail:\n",
    "            return -1\n",
    "        else:\n",
    "            return self.queue[self.tail -1]\n",
    "        \n",
    "    def isEmpty(self) -> bool:\n",
    "        return self.head == self.tail\n",
    "    \n",
    "    def isFull(self) -> bool:\n",
    "        return self.items == (self.size -1)\n",
    "    "
   ]
  },
  {
   "cell_type": "markdown",
   "metadata": {},
   "source": [
    "##### Runtime: 64 ms(faster than 92.42%), Memory : 14.9 MB(less than 34.54%)"
   ]
  },
  {
   "cell_type": "markdown",
   "metadata": {},
   "source": [
    "## 232. Impement Queue using Stacks"
   ]
  },
  {
   "cell_type": "code",
   "execution_count": null,
   "metadata": {},
   "outputs": [],
   "source": [
    "class MyQueue:\n",
    "    \n",
    "    def __init__(self):\n",
    "        self.stack1=[]\n",
    "        self.stack2=[]\n",
    "    \n",
    "    def push(self, x: int) -> None:\n",
    "        self.stack1.append(x)\n",
    "        \n",
    "    def pop(self) -> int:\n",
    "        while self.stack1:\n",
    "            self.stack2.append(self.stack1.pop())\n",
    "        ans = self.stack2.pop()\n",
    "        while self.stack2:\n",
    "            self.stack1.append(self.stack2.pop())\n",
    "        return ans\n",
    "    \n",
    "    def peek(self) -> int:\n",
    "        return self.stack1[0]\n",
    "    \n",
    "    def empty(self) -> bool:\n",
    "        if not self.stack1 and not self.stack2:\n",
    "            return True"
   ]
  },
  {
   "cell_type": "markdown",
   "metadata": {},
   "source": [
    "##### Runtime: 20 ms(faster than 99.13%), Memory : 14.5 MB(less than 9.93%)"
   ]
  },
  {
   "cell_type": "markdown",
   "metadata": {},
   "source": [
    "# [Deque]"
   ]
  },
  {
   "cell_type": "markdown",
   "metadata": {},
   "source": [
    "## 641. Design Circular Deque"
   ]
  },
  {
   "cell_type": "code",
   "execution_count": null,
   "metadata": {},
   "outputs": [],
   "source": [
    "class MyCircularDeque:\n",
    "\n",
    "    def __init__(self, k: int):\n",
    "        self.k = k\n",
    "        self.count = 0\n",
    "        self.f = []\n",
    "        self.r = []\n",
    "\n",
    "    def insertFront(self, value: int) -> bool:\n",
    "        if self.count < self.k:\n",
    "            self.f.append(value)\n",
    "            self.count += 1\n",
    "            return True\n",
    "        else:\n",
    "            return False\n",
    "        \n",
    "    def insertLast(self, value: int) -> bool:\n",
    "        if self.count < self.k:\n",
    "            self.r.append(value)\n",
    "            self.count += 1\n",
    "            return True\n",
    "        else:\n",
    "            return False\n",
    "        \n",
    "    def deleteFront(self) -> bool:\n",
    "        if self.count != 0:\n",
    "            if self.f:\n",
    "                self.f.pop()\n",
    "            elif self.r:\n",
    "                self.r.pop(0)\n",
    "            self.count -= 1\n",
    "            return True\n",
    "        else:\n",
    "            return False\n",
    "\n",
    "    def deleteLast(self) -> bool:\n",
    "        if self.count != 0:\n",
    "            if self.r:\n",
    "                self.r.pop()\n",
    "            elif self.f:\n",
    "                self.f.pop(0)\n",
    "            self.count -= 1\n",
    "            return True\n",
    "        else:\n",
    "            return False\n",
    "\n",
    "    def getFront(self) -> int:\n",
    "        if self.f:\n",
    "            return self.f[-1]\n",
    "        elif self.r:\n",
    "            return self.r[0]\n",
    "        else:\n",
    "            return -1\n",
    "\n",
    "    def getRear(self) -> int:\n",
    "        if self.r:\n",
    "            return self.r[-1]\n",
    "        elif self.f:\n",
    "            return self.f[0]\n",
    "        else:\n",
    "            return -1\n",
    "\n",
    "    def isEmpty(self) -> bool:\n",
    "        if self.count == 0:\n",
    "            return True\n",
    "        else:\n",
    "            return False\n",
    "\n",
    "    def isFull(self) -> bool:\n",
    "        if self.count == self.k:\n",
    "            return True\n",
    "        else:\n",
    "            return False"
   ]
  },
  {
   "cell_type": "markdown",
   "metadata": {},
   "source": [
    "##### Runtime: 64 ms(faster than 94.73%), Memory : 15 MB(less than 38.45%)"
   ]
  }
 ],
 "metadata": {
  "kernelspec": {
   "display_name": "Python 3",
   "language": "python",
   "name": "python3"
  },
  "language_info": {
   "codemirror_mode": {
    "name": "ipython",
    "version": 3
   },
   "file_extension": ".py",
   "mimetype": "text/x-python",
   "name": "python",
   "nbconvert_exporter": "python",
   "pygments_lexer": "ipython3",
   "version": "3.7.6"
  }
 },
 "nbformat": 4,
 "nbformat_minor": 2
}
