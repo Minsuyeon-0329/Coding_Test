{
 "cells": [
  {
   "cell_type": "markdown",
   "metadata": {},
   "source": [
    "# 자료구조_6주차"
   ]
  },
  {
   "cell_type": "markdown",
   "metadata": {},
   "source": [
    "## 167. Two Sum II - Input array is sorted\n",
    "> Hash table 이용해서 다시 품"
   ]
  },
  {
   "cell_type": "code",
   "execution_count": null,
   "metadata": {},
   "outputs": [],
   "source": [
    "from typing import List\n",
    "\n",
    "class Solution:\n",
    "    def twoSum(self, numbers: List[int], target: int) -> List[int]:\n",
    "        hash_table = {}\n",
    "    \n",
    "        for idx,num in enumerate(numbers):\n",
    "            match_num = target - num\n",
    "            match_idx = hash_table.get(match_num)\n",
    "        \n",
    "            if match_idx is not None:\n",
    "                return [match_idx+1, idx+1]\n",
    "        \n",
    "            hash_table[num] = idx"
   ]
  },
  {
   "cell_type": "markdown",
   "metadata": {},
   "source": [
    "##### Runtime: 60 ms(faster than 89.09%), Memory : 14.6 MB(less than 86.25%)"
   ]
  },
  {
   "cell_type": "markdown",
   "metadata": {},
   "source": [
    "## 387. First Unique Character in a String"
   ]
  },
  {
   "cell_type": "code",
   "execution_count": null,
   "metadata": {},
   "outputs": [],
   "source": [
    "class Solution:\n",
    "    def firstUniqChar(self, s: str) -> int:\n",
    "        count={}\n",
    "        for strs in s:\n",
    "            c = count.get(strs)\n",
    "            if c is None:\n",
    "                count[strs]=1\n",
    "                continue\n",
    "            count[strs]+=1\n",
    "        a=[]\n",
    "        for idx, strs in enumerate(s):\n",
    "            if count[strs] == 1:\n",
    "                a.append(idx)\n",
    "        if a:\n",
    "            return a[0]\n",
    "        else:\n",
    "            return -1"
   ]
  },
  {
   "cell_type": "markdown",
   "metadata": {},
   "source": [
    "##### Runtime: 208 ms(faster than 20.56%), Memory : 14.4 MB(less than 70.42%)"
   ]
  },
  {
   "cell_type": "markdown",
   "metadata": {},
   "source": [
    "## 347. Top K Frequent Elements"
   ]
  },
  {
   "cell_type": "code",
   "execution_count": null,
   "metadata": {},
   "outputs": [],
   "source": [
    "class Solution:\n",
    "    def topKFrequent(self, nums: List[int], k: int) -> List[int]:\n",
    "        count={}\n",
    "        for num in nums:\n",
    "            c = count.get(num)\n",
    "            if c is None:\n",
    "                count[num]=1\n",
    "                continue\n",
    "            count[num]+=1\n",
    "        lst=[]\n",
    "        s=sorted(count.items(), key=lambda x:x[1], reverse = True)\n",
    "        for i in range(k):\n",
    "            lst.append(list(s)[i][0])\n",
    "        return lst"
   ]
  },
  {
   "cell_type": "markdown",
   "metadata": {},
   "source": [
    "##### Runtime: 120 ms(faster than 34.84%), Memory : 18.9 MB(less than 36.06%)"
   ]
  },
  {
   "cell_type": "markdown",
   "metadata": {},
   "source": [
    "## 205. Isomorphic Strings"
   ]
  },
  {
   "cell_type": "code",
   "execution_count": null,
   "metadata": {},
   "outputs": [],
   "source": [
    "class Solution:\n",
    "    def isIsomorphic(self, s: str, t: str) -> bool:\n",
    "        n=len(s)\n",
    "        d1=dict()\n",
    "        d2=dict()\n",
    "        for i in range(n):\n",
    "            key,val=s[i],t[i]\n",
    "            if key in d1:\n",
    "                if d1[key] != val:\n",
    "                    return False\n",
    "            else:\n",
    "                if val in d2:\n",
    "                    return False\n",
    "                d1[key],d2[val]=val,key\n",
    "        return True\n",
    "                "
   ]
  },
  {
   "cell_type": "markdown",
   "metadata": {},
   "source": [
    "##### Runtime: 32 ms(faster than 96.64%), Memory : 14.1 MB(less than 99.83%)"
   ]
  },
  {
   "cell_type": "markdown",
   "metadata": {},
   "source": [
    "## 242. Valid Anagram\n",
    "> 밑에 두 풀이는 Discuss에 나와있는 건데 내가 생각한 원리를 dict를 사용하지 않고도 바로 풀 수 있는 방법인 거 같다."
   ]
  },
  {
   "cell_type": "code",
   "execution_count": null,
   "metadata": {},
   "outputs": [],
   "source": [
    "class Solution:\n",
    "    def isAnagram(self, s: str, t: str) -> bool:\n",
    "        count_s={}\n",
    "        for strs in s:\n",
    "            count=count_s.get(strs)\n",
    "            if count is None:\n",
    "                count_s[strs] = 1\n",
    "                continue\n",
    "            count_s[strs]+=1\n",
    "        count_t={}\n",
    "        for strs in t:\n",
    "            count=count_t.get(strs)\n",
    "            if count is None:\n",
    "                count_t[strs] = 1\n",
    "                continue\n",
    "            count_t[strs]+=1\n",
    "        if len(count_s) ==len(count_t):\n",
    "            for i in count_s:\n",
    "                if i not in count_t:\n",
    "                    return False\n",
    "                if count_s[i] != count_t[i]:\n",
    "                    return False\n",
    "            return True\n",
    "        else:\n",
    "            return False"
   ]
  },
  {
   "cell_type": "markdown",
   "metadata": {},
   "source": [
    "##### Runtime: 56 ms(faster than 47.24%), Memory : 14.6 MB(less than 32.16%)"
   ]
  },
  {
   "cell_type": "code",
   "execution_count": null,
   "metadata": {},
   "outputs": [],
   "source": [
    "class Solution:\n",
    "    def isAnagram(self, s: str, t: str) -> bool:\n",
    "        return dict(Counter(s)) == dict(Counter(t))"
   ]
  },
  {
   "cell_type": "markdown",
   "metadata": {},
   "source": [
    "##### Runtime: 72 ms(faster than 24.07%), Memory : 14.6 MB(less than 55.75%)"
   ]
  },
  {
   "cell_type": "code",
   "execution_count": null,
   "metadata": {},
   "outputs": [],
   "source": [
    "class Solution:\n",
    "    def isAnagram(self, s: str, t: str) -> bool:\n",
    "        \n",
    "        s, t = sorted(s), sorted(t)\n",
    "        \n",
    "        return s==t"
   ]
  },
  {
   "cell_type": "markdown",
   "metadata": {},
   "source": [
    "##### Runtime: 62 ms(faster than 33.69%), Memory : 14.8 MB(less than 23.77%)"
   ]
  },
  {
   "cell_type": "markdown",
   "metadata": {},
   "source": [
    "## 290. Word Pattern"
   ]
  },
  {
   "cell_type": "code",
   "execution_count": null,
   "metadata": {},
   "outputs": [],
   "source": [
    "class Solution:\n",
    "    def wordPattern(self, pattern: str, s: str) -> bool:\n",
    "        words = s.split() \n",
    "        if len(pattern) != len(words): \n",
    "            return False\n",
    "        dic = {} \n",
    "        for j,char in enumerate(pattern): \n",
    "            if not (char in dic):  \n",
    "                if words[j] in dic.values(): \n",
    "                    return False\n",
    "                dic[char] = words[j]\n",
    "            else: \n",
    "                if dic[char] != words[j] : \n",
    "                    return False\n",
    "                \n",
    "        return True"
   ]
  },
  {
   "cell_type": "markdown",
   "metadata": {},
   "source": [
    "##### Runtime: 37 ms(faster than 29.99%), Memory : 14.4 MB(less than 23.18%)"
   ]
  },
  {
   "cell_type": "markdown",
   "metadata": {},
   "source": [
    "## 706. Design HashMap"
   ]
  },
  {
   "cell_type": "code",
   "execution_count": null,
   "metadata": {},
   "outputs": [],
   "source": [
    "class MyHashMap:\n",
    "\n",
    "    def __init__(self):\n",
    "        self.hashmap=dict()\n",
    "\n",
    "    def put(self, key: int, value: int) -> None:\n",
    "        self.hashmap[key]=value\n",
    "\n",
    "    def get(self, key: int) -> int:\n",
    "        if key in self.hashmap:\n",
    "            return self.hashmap[key]\n",
    "        else:\n",
    "            return -1\n",
    "\n",
    "    def remove(self, key: int) -> None:\n",
    "        if key in self.hashmap:\n",
    "            del self.hashmap[key]\n",
    "        else:\n",
    "            return -1"
   ]
  },
  {
   "cell_type": "markdown",
   "metadata": {},
   "source": [
    "##### Runtime: 196 ms(faster than 95.20%), Memory : 17.3 MB(less than 66.49%)"
   ]
  },
  {
   "cell_type": "markdown",
   "metadata": {},
   "source": [
    "## 771. Jewels and Stones"
   ]
  },
  {
   "cell_type": "code",
   "execution_count": null,
   "metadata": {},
   "outputs": [],
   "source": [
    "class Solution:\n",
    "    def numJewelsInStones(self, jewels: str, stones: str) -> int:\n",
    "        stones_d={}\n",
    "        for stone in stones:\n",
    "            s=stones_d.get(stone)\n",
    "            if s is None:\n",
    "                stones_d[stone]=1\n",
    "                continue\n",
    "            stones_d[stone] += 1\n",
    "        j=0\n",
    "        for jewel in jewels:\n",
    "            if jewel not in stones_d:\n",
    "                j+=0\n",
    "            else:\n",
    "                if stones_d[jewel]:\n",
    "                    j+=stones_d[jewel]\n",
    "        return j"
   ]
  },
  {
   "cell_type": "markdown",
   "metadata": {},
   "source": [
    "##### Runtime: 37 ms(faster than 31.57%), Memory : 14 MB(less than 98.59%)"
   ]
  }
 ],
 "metadata": {
  "kernelspec": {
   "display_name": "Python 3",
   "language": "python",
   "name": "python3"
  },
  "language_info": {
   "codemirror_mode": {
    "name": "ipython",
    "version": 3
   },
   "file_extension": ".py",
   "mimetype": "text/x-python",
   "name": "python",
   "nbconvert_exporter": "python",
   "pygments_lexer": "ipython3",
   "version": "3.7.6"
  }
 },
 "nbformat": 4,
 "nbformat_minor": 4
}
