{
 "cells": [
  {
   "cell_type": "markdown",
   "metadata": {},
   "source": [
    "# 자료구조_3주차"
   ]
  },
  {
   "cell_type": "code",
   "execution_count": 1,
   "metadata": {},
   "outputs": [],
   "source": [
    "# Definition for singly-linked list.\n",
    "# class ListNode:\n",
    "#     def __init__(self, val=0, next=None):\n",
    "#         self.val = val\n",
    "#         self.next = next"
   ]
  },
  {
   "cell_type": "markdown",
   "metadata": {},
   "source": [
    "## 876. Middle of the Linked List"
   ]
  },
  {
   "cell_type": "code",
   "execution_count": null,
   "metadata": {},
   "outputs": [],
   "source": [
    "class Solution:\n",
    "    def middleNode(self, head: Optional[ListNode]) -> Optional[ListNode]:\n",
    "        if head is None or head.next is None:\n",
    "            return head\n",
    "        slow = head\n",
    "        fast = head\n",
    "    \n",
    "        while slow and fast and fast.next:\n",
    "            slow = slow.next\n",
    "            fast = fast.next.next\n",
    "        return slow"
   ]
  },
  {
   "cell_type": "markdown",
   "metadata": {},
   "source": [
    "##### Runtime : 32 ms(faster than 69.16%), Memory : 14.4 MB(less than 10.15%)"
   ]
  },
  {
   "cell_type": "markdown",
   "metadata": {},
   "source": [
    "## 206. Reverse Linked List"
   ]
  },
  {
   "cell_type": "code",
   "execution_count": null,
   "metadata": {},
   "outputs": [],
   "source": [
    "class Solution:\n",
    "    def reverseList(self, head: Optional[ListNode]) -> Optional[ListNode]:\n",
    "        temp=None\n",
    "        while head :\n",
    "            a=head.next\n",
    "            head.next=temp\n",
    "            temp=head\n",
    "            head=a\n",
    "        return temp"
   ]
  },
  {
   "cell_type": "markdown",
   "metadata": {},
   "source": [
    "##### Runtime : 32 ms(faster than 89.38%), Memory : 15.6 MB(less than 76.38%)"
   ]
  },
  {
   "cell_type": "markdown",
   "metadata": {},
   "source": [
    "## 21. Merge Two Sorted Lists"
   ]
  },
  {
   "cell_type": "code",
   "execution_count": null,
   "metadata": {},
   "outputs": [],
   "source": [
    "class Solution(object):\n",
    "    def mergeTwoLists(self, l1: Optional[ListNode], l2: Optional[ListNode]) -> Optional[ListNode]:\n",
    "        l3=ListNode(0)\n",
    "        l4=l3\n",
    "        while l1 and l2 :\n",
    "            if l1.val <= l2.val:\n",
    "                l4.next=l1\n",
    "                l1=l1.next\n",
    "            else:\n",
    "                l4.next=l2\n",
    "                l2=l2.next\n",
    "            l4=l4.next\n",
    "        l4.next = l1 or l2\n",
    "        return l3.next"
   ]
  },
  {
   "cell_type": "markdown",
   "metadata": {},
   "source": [
    "##### Runtime : 32 ms(faster than 93.35%), Memory : 14.4 MB(less than 30.04%)\n",
    "##### l3과 l4의 관계를 정확히 모르겠다."
   ]
  },
  {
   "cell_type": "markdown",
   "metadata": {},
   "source": [
    "## 203. Remove Linked List Elements"
   ]
  },
  {
   "cell_type": "code",
   "execution_count": null,
   "metadata": {},
   "outputs": [],
   "source": [
    "class Solution:\n",
    "    def removeElements(self, head: Optional[ListNode], val: int) -> Optional[ListNode]:\n",
    "        l1=ListNode(0)\n",
    "        l1.next=head\n",
    "        l2=l1\n",
    "        \n",
    "        while l2.next :\n",
    "            if l2.next.val == val:\n",
    "                l2.next=l2.next.next\n",
    "            else:\n",
    "                l2=l2.next\n",
    "        return l1.next"
   ]
  },
  {
   "cell_type": "markdown",
   "metadata": {},
   "source": [
    "##### Runtime : 76 ms(faster than 37.99%), Memory : 17.2 MB(less than 66.79%)"
   ]
  },
  {
   "cell_type": "code",
   "execution_count": null,
   "metadata": {},
   "outputs": [],
   "source": [
    "class Solution:\n",
    "    def removeElements(self, head: Optional[ListNode], val: int) -> Optional[ListNode]:\n",
    "        while head and head.val == val:\n",
    "            head = head.next \n",
    "        temp = head\n",
    "        while temp and temp.next:\n",
    "            if temp.next.val == val:\n",
    "                temp.next = temp.next.next\n",
    "            else:\n",
    "                temp = temp.next\n",
    "        return head"
   ]
  },
  {
   "cell_type": "markdown",
   "metadata": {},
   "source": [
    "##### Runtime : 64 ms(faster than 90.61%), Memory : 17.2 MB(less than 25.60%)\n",
    "##### 첫번째 풀이랑 비슷하면서도 다르고 훨씬 효율적인 코드다."
   ]
  },
  {
   "cell_type": "markdown",
   "metadata": {},
   "source": [
    "## 141. Linked List Cycle"
   ]
  },
  {
   "cell_type": "code",
   "execution_count": null,
   "metadata": {},
   "outputs": [],
   "source": [
    "class Solution:\n",
    "    def hasCycle(self, head: ListNode) -> bool:\n",
    "        if head is None:\n",
    "            return False\n",
    "\n",
    "        slow, fast = head, head\n",
    "\n",
    "        while fast.next and fast.next.next:\n",
    "            slow = slow.next\n",
    "            fast = fast.next.next\n",
    "            if slow == fast:\n",
    "                return True\n",
    "\n",
    "        return False"
   ]
  },
  {
   "cell_type": "markdown",
   "metadata": {},
   "source": [
    "##### Runtime : 48 ms(faster than 94.66%), Memory : 17.6 MB(less than 55.41%)\n",
    "##### Linked List 원리는 이해가 가는데 코드를 어떻게 짜야할 지 모르겠고, 어떤 문법을 사용해야할 지 감이 안잡힌다."
   ]
  },
  {
   "cell_type": "markdown",
   "metadata": {},
   "source": [
    "## 2. Add Two Numbers"
   ]
  },
  {
   "cell_type": "code",
   "execution_count": null,
   "metadata": {},
   "outputs": [],
   "source": [
    "class Solution(object):\n",
    "    def addTwoNumbers(self, l1, l2):\n",
    "\n",
    "        dummy = ListNode()\n",
    "        curr = dummy\n",
    "        carry = 0\n",
    "        \n",
    "        while l1 or l2 or carry:\n",
    "            #Get the values \n",
    "            val1 = l1.val if l1 else 0\n",
    "            val2 = l2.val if l2 else 0\n",
    "            #Add the values and get the carry bit value\n",
    "            val = val1 + val2 + carry\n",
    "            carry = val // 10\n",
    "            val = val % 10       \n",
    "            \n",
    "            #Store the value in the linked list\n",
    "            curr.next = ListNode(val)\n",
    "            \n",
    "            #Incrementing pointers\n",
    "            curr = curr.next                \n",
    "            l1 = l1.next if l1 else None\n",
    "            l2 = l2.next if l2 else None\n",
    "        \n",
    "        #Return the list \n",
    "        return dummy.next"
   ]
  },
  {
   "cell_type": "markdown",
   "metadata": {},
   "source": [
    "##### Runtime : 68 ms(faster than 79.27%), Memory : 14.4 MB(less than 43.34%)"
   ]
  },
  {
   "cell_type": "markdown",
   "metadata": {},
   "source": [
    "## 160. Intersection of Two Linked "
   ]
  },
  {
   "cell_type": "code",
   "execution_count": null,
   "metadata": {},
   "outputs": [],
   "source": [
    "class Solution:\n",
    "    def getIntersectionNode(self, headA: ListNode, headB: ListNode) -> ListNode:\n",
    "        data1={}\n",
    "        \n",
    "        while headA:\n",
    "            data1[headA]=1\n",
    "            headA=headA.next\n",
    "            \n",
    "        while headB:\n",
    "            if data1.get(headB):\n",
    "                return headB\n",
    "            headB=headB.next"
   ]
  },
  {
   "cell_type": "markdown",
   "metadata": {},
   "source": [
    "#### Runtime : 176 ms(faster than 33.19%), Memory : 29.8 MB(less than 15.40%)"
   ]
  }
 ],
 "metadata": {
  "kernelspec": {
   "display_name": "Python 3",
   "language": "python",
   "name": "python3"
  },
  "language_info": {
   "codemirror_mode": {
    "name": "ipython",
    "version": 3
   },
   "file_extension": ".py",
   "mimetype": "text/x-python",
   "name": "python",
   "nbconvert_exporter": "python",
   "pygments_lexer": "ipython3",
   "version": "3.7.6"
  }
 },
 "nbformat": 4,
 "nbformat_minor": 4
}
