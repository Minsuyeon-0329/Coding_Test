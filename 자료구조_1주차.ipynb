{
 "cells": [
  {
   "cell_type": "markdown",
   "metadata": {},
   "source": [
    "# LeetCode_1주차"
   ]
  },
  {
   "cell_type": "markdown",
   "metadata": {},
   "source": [
    "## 283. Move Zeros"
   ]
  },
  {
   "cell_type": "code",
   "execution_count": null,
   "metadata": {},
   "outputs": [],
   "source": [
    "class Solution:\n",
    "    def moveZeroes(self, nums: List[int]) -> None:\n",
    "        \"\"\"\n",
    "        Do not return anything, modify nums in-place instead.\n",
    "        \"\"\"\n",
    "        prev=0\n",
    "        for i in range(0,len(nums)):\n",
    "            if nums[i] != 0 :\n",
    "                nums[prev], nums[i]=nums[i],nums[prev]\n",
    "                prev+=1"
   ]
  },
  {
   "cell_type": "markdown",
   "metadata": {},
   "source": [
    "##### Runtime : 48 ms, Memory : 15.5 MB"
   ]
  },
  {
   "cell_type": "code",
   "execution_count": null,
   "metadata": {},
   "outputs": [],
   "source": [
    "class Solution:\n",
    "    def moveZeroes(self, nums: List[int]) -> None:\n",
    "        \"\"\"\n",
    "        Do not return anything, modify nums in-place instead.\n",
    "        \"\"\"\n",
    "        for i in range(len(nums)):\n",
    "            for j in range(i+1,len(nums)):\n",
    "                if nums[i] == 0 and nums[j] != 0 :\n",
    "                    nums[i],nums[j] = nums[j], nums[i]"
   ]
  },
  {
   "cell_type": "markdown",
   "metadata": {},
   "source": [
    "##### Runtime : 2604 ms, Memory : 15.3 MB"
   ]
  },
  {
   "cell_type": "markdown",
   "metadata": {},
   "source": [
    "## 125. Valid Palindrome"
   ]
  },
  {
   "cell_type": "code",
   "execution_count": null,
   "metadata": {},
   "outputs": [],
   "source": [
    "class Solution:\n",
    "    def isPalindrome(self, s: str) -> bool:\n",
    "        a=[]\n",
    "        b=[]\n",
    "        for i in s:\n",
    "            if i.isalnum():\n",
    "                a.append(i.lower())\n",
    "        for i in range(len(a)//2):\n",
    "            if a[i] == a[-(i+1)]:\n",
    "                b.append(0)\n",
    "            else:\n",
    "                b.append(1)\n",
    "        if sum(b) == 0:\n",
    "            return True\n",
    "        else:\n",
    "            return False"
   ]
  },
  {
   "cell_type": "markdown",
   "metadata": {},
   "source": [
    "##### Runtime : 56 ms (faster than 47.40%), Memory : 19.9 MB (less than 7.58%)\n",
    "##### 문제에서 return 값이 true, false였어도 코드에는 return True, return False로 적어야 한다."
   ]
  },
  {
   "cell_type": "markdown",
   "metadata": {},
   "source": [
    "## 167. Two Sum 2 - Input array is sorted"
   ]
  },
  {
   "cell_type": "code",
   "execution_count": null,
   "metadata": {},
   "outputs": [],
   "source": [
    "class Solution:\n",
    "    def twoSum(self, numbers: List[int], target: int) -> List[int]:\n",
    "        for i in range(len(numbers)):\n",
    "            for j in range(i+1,len(numbers)):\n",
    "                if numbers[i]+numbers[j] == target:\n",
    "                    return [i+1,j+1]"
   ]
  },
  {
   "cell_type": "markdown",
   "metadata": {},
   "source": [
    "##### Time Limit Exceeded"
   ]
  },
  {
   "cell_type": "code",
   "execution_count": null,
   "metadata": {},
   "outputs": [],
   "source": [
    "class Solution:\n",
    "    def twoSum(self, numbers: List[int], target: int) -> List[int]:\n",
    "        for i in numbers :\n",
    "            if target - i in numbers:\n",
    "                return [numbers.index(i)+1,numbers.index(target-i)+1]"
   ]
  },
  {
   "cell_type": "markdown",
   "metadata": {},
   "source": [
    "##### Wrong Answer \n",
    "##### input : [0,0,3,4], 0 > output : [1,1]"
   ]
  },
  {
   "cell_type": "code",
   "execution_count": null,
   "metadata": {},
   "outputs": [],
   "source": [
    "class Solution:\n",
    "    def twoSum(self, numbers: List[int], target: int) -> List[int]:\n",
    "        lst=[]\n",
    "        for a, b in enumerate(numbers, start=1):\n",
    "            nums=numbers[a:]\n",
    "            for c,d in enumerate(nums,start=a+1):\n",
    "                if target-b ==d :\n",
    "                    lst.append(a)\n",
    "                    lst.append(c)\n",
    "                    return lst\n",
    "                    break"
   ]
  },
  {
   "cell_type": "markdown",
   "metadata": {},
   "source": [
    "##### Time Limit Exceeded"
   ]
  },
  {
   "cell_type": "code",
   "execution_count": null,
   "metadata": {},
   "outputs": [],
   "source": [
    "class Solution:\n",
    "    def twoSum(self, numbers: List[int], target: int) -> List[int]:\n",
    "        dic = dict()\n",
    "        for i in range(len(numbers)):\n",
    "            a = target - numbers[i]\n",
    "            if a in dic:\n",
    "                return [dic[a]+1, i+1]\n",
    "            \n",
    "            dic[numbers[i]] = i"
   ]
  },
  {
   "cell_type": "markdown",
   "metadata": {},
   "source": [
    "##### Runtime : 60 ms (faster than 86.39%), Memory : 24.3 MB (less than 86.23%)\n",
    "##### enumerate로 풀다가 value를 통해 key를 받아 올 수 있는 것을 생각하다가 dict사용\n",
    "##### dict[key]=value 인데 서로 바꿔서 지정해줌으로써 원하는 값 얻을 수 있음\n"
   ]
  },
  {
   "cell_type": "markdown",
   "metadata": {},
   "source": [
    "## 3. Longest Substing Without Repeating Characters"
   ]
  },
  {
   "cell_type": "code",
   "execution_count": null,
   "metadata": {},
   "outputs": [],
   "source": [
    "class Solution:\n",
    "    def lengthOfLongestSubstring(self, s: str) -> int:\n",
    "        a=[]\n",
    "        b=0\n",
    "        c=0\n",
    "        for i in s:\n",
    "            if i in a:\n",
    "                c=max(c,b)\n",
    "                b=0\n",
    "            b+=1\n",
    "            a.append(i)\n",
    "        return c"
   ]
  },
  {
   "cell_type": "markdown",
   "metadata": {},
   "source": [
    "##### Wrong Answer : ' '  > 0 (''의 경우 0이지만 ' '의 경우 1이 출력되어야 한다.)"
   ]
  },
  {
   "cell_type": "code",
   "execution_count": null,
   "metadata": {},
   "outputs": [],
   "source": [
    "class Solution:\n",
    "    def lengthOfLongestSubstring(self, s: str) -> int:\n",
    "        a=[]\n",
    "        b=0\n",
    "        c=0\n",
    "        for i in s:\n",
    "            if i in a:\n",
    "                c=max(c,b)\n",
    "                b=0\n",
    "            b+=1\n",
    "            c=max(c,b)\n",
    "            a.append(i)\n",
    "        return c"
   ]
  },
  {
   "cell_type": "markdown",
   "metadata": {},
   "source": [
    "##### Wrong Answer : 'dvdf' > 2 (같은 문자를 포함하고 있는 가장 긴 문자열을 출력해야한다.)"
   ]
  },
  {
   "cell_type": "code",
   "execution_count": null,
   "metadata": {},
   "outputs": [],
   "source": [
    "class Solution:\n",
    "    def lengthOfLongestSubstring(self, s: str) -> int:\n",
    "        ans = 0\n",
    "        left_cursor = 0\n",
    "        used = {}\n",
    "        \n",
    "        for right_cursor, char in enumerate(s):\n",
    "            if char in used and left_cursor <= used[char]:\n",
    "                left_cursor = used[char] + 1\n",
    "            else:\n",
    "                ans = max(ans, right_cursor - left_cursor + 1)\n",
    "            used[char] = right_cursor\n",
    "            \n",
    "        return ans"
   ]
  },
  {
   "cell_type": "markdown",
   "metadata": {},
   "source": [
    "##### Runtime : 55 ms(faster than 84.93%), Memory : 14.2 MB(less than 80.20%)\n",
    "##### Sliding Window(아직 잘 모르겠음)"
   ]
  },
  {
   "cell_type": "markdown",
   "metadata": {},
   "source": [
    "## 415. Add Strings"
   ]
  },
  {
   "cell_type": "code",
   "execution_count": null,
   "metadata": {},
   "outputs": [],
   "source": [
    "class Solution:\n",
    "    def addStrings(self, num1: str, num2: str) -> str:\n",
    "        return str(int(num1)+int(num2))"
   ]
  },
  {
   "cell_type": "markdown",
   "metadata": {},
   "source": [
    "##### Runtime : 36 ms (faster than 96.03%), Memory : 14.5 MB (less than 81.78%)"
   ]
  },
  {
   "cell_type": "markdown",
   "metadata": {},
   "source": [
    "## 202. Happy Number"
   ]
  },
  {
   "cell_type": "code",
   "execution_count": null,
   "metadata": {},
   "outputs": [],
   "source": [
    "class Solution:\n",
    "    def isHappy(self, n: int) -> bool:\n",
    "        a=0\n",
    "        while True:\n",
    "            for i in str(n):\n",
    "                a += int(i)**2\n",
    "            n=a\n",
    "            a=0\n",
    "            if n == 1 : \n",
    "                return True\n",
    "                break\n",
    "            elif n < 4:\n",
    "                return False\n",
    "                break\n",
    "            "
   ]
  },
  {
   "cell_type": "markdown",
   "metadata": {},
   "source": [
    "##### Time Limits Exceeded\n",
    "##### 시간초과도 떴지만 n값에 대한 조건도 잘못되었음"
   ]
  },
  {
   "cell_type": "code",
   "execution_count": null,
   "metadata": {},
   "outputs": [],
   "source": [
    "class Solution:\n",
    "    def isHappy(self, n: int) -> bool:\n",
    "        a=0\n",
    "        b=[]\n",
    "        while n != 1:\n",
    "            for i in str(n):\n",
    "                a+= int(i)**2\n",
    "            if a in b:\n",
    "                return False\n",
    "                break\n",
    "            b.append(a)\n",
    "            n,a=a,0\n",
    "            if n==1:\n",
    "                return True"
   ]
  },
  {
   "cell_type": "markdown",
   "metadata": {},
   "source": [
    "##### Wrong Answer : n = 1 > False"
   ]
  },
  {
   "cell_type": "code",
   "execution_count": null,
   "metadata": {},
   "outputs": [],
   "source": [
    "class Solution:\n",
    "    def isHappy(self, n: int) -> bool:\n",
    "        a=0\n",
    "        b=[]\n",
    "        while True:\n",
    "            for i in str(n):\n",
    "                a+=int(i)**2\n",
    "            if a in b:\n",
    "                return False\n",
    "                break\n",
    "            b.append(a)\n",
    "            n,a=a,0\n",
    "            if n ==1:\n",
    "                return True\n",
    "                break"
   ]
  },
  {
   "cell_type": "markdown",
   "metadata": {},
   "source": [
    "##### Runtime : 36 ms (faster than 83.73%), Memory : 14.1 MB (less than 48.89%)"
   ]
  },
  {
   "cell_type": "markdown",
   "metadata": {},
   "source": [
    "## 1512. Number of Good Pairs"
   ]
  },
  {
   "cell_type": "code",
   "execution_count": null,
   "metadata": {},
   "outputs": [],
   "source": [
    "class Solution:\n",
    "    def numIdenticalPairs(self, nums: List[int]) -> int:\n",
    "        a=[]\n",
    "        for i in range(len(nums)):\n",
    "            for j in range(i+1,len(nums)):\n",
    "                if nums[i] == nums[j]:\n",
    "                    a.append((i,j))\n",
    "        return len(a)"
   ]
  },
  {
   "cell_type": "markdown",
   "metadata": {},
   "source": [
    "##### Runtime : 36 ms (faster than 48.23%), Memory : 14.2 MB (less than 10.58%)"
   ]
  }
 ],
 "metadata": {
  "kernelspec": {
   "display_name": "Python 3",
   "language": "python",
   "name": "python3"
  },
  "language_info": {
   "codemirror_mode": {
    "name": "ipython",
    "version": 3
   },
   "file_extension": ".py",
   "mimetype": "text/x-python",
   "name": "python",
   "nbconvert_exporter": "python",
   "pygments_lexer": "ipython3",
   "version": "3.7.6"
  }
 },
 "nbformat": 4,
 "nbformat_minor": 4
}
